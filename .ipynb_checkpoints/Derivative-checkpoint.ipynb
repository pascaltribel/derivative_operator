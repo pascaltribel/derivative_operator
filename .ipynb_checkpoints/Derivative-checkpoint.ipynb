{
 "cells": [
  {
   "cell_type": "markdown",
   "id": "b3a8c302-ffe5-4638-bc95-bacc35d1df76",
   "metadata": {},
   "source": [
    "# Numerical differentiation of unequally sampled data using Machine Learning\n",
    "- _Pascal Tribel - Machine Learning Group_\n",
    "- _December 2024_\n",
    "## Abstract\n",
    "Derivative estimation is a fundamental problem in numerical analysis, scientific computing, and machine learning, with applications ranging from solving differential equations to data analysis in physics and engineering. Classical approaches to derivative estimation include finite difference methods, spline-based approximations, and spectral methods. These techniques, while effective in many settings, often face limitations when dealing with irregularly spaced (non-evenly discretized) input data, noise, or highly nonlinear functions.\n",
    "\n",
    "Neural networks and neural operators have recently emerged as powerful tools for learning complex functional mappings. Neural operators, in particular, extend traditional neural network frameworks by operating in infinite-dimensional function spaces, making them highly suitable for learning mappings between functions. This framework has been successfully applied to problems such as solving partial differential equations (PDEs) (e.g., Fourier neural operators) and emulating physical systems. However, the application of neural operators for derivative estimation has not been thoroughly explored, especially for irregularly spaced input intervals.\n",
    "\n",
    "Since the differentiation is commonly formulated using the operator paradigm, but the task can also be defined in the functional paradigm when facing sampled data, we define a framework to compare the performances of different Machine Learning architecture, while comparing them to classical numerical solvers.\n",
    "## Problem statement\n",
    "### Introduction and analytical method\n",
    "In the analytical formulation, the definition of the differential operator of an univariate function is trivial:\n",
    "$$\\frac{df(x)}{dx} = \\lim_{\\delta x\\rightarrow 0}\\frac{f(x+\\delta x) - f(x)}{\\delta x} $$\n",
    "This can in many cases easily be computed if the analytical form of $f(x)$ is known. Once the derivative $f'(x) = \\frac{df(x)}{dx}$ is defined, it can be queried at any point. The value obtained denotes the instant slope of the initial function. Therefore, two formalisms can be used: the _operator_ $\\frac{d}{dx}$ defines a mapping between two functions spaces, but there also may exists a function $g(x, \\hat{f}) = f'(x)$ which computes the mapping between $x$ and the value of the derivative $f'(x)$ given numerical additional information on $f$ denoted by $\\hat{f}$. This second formalism defines a mapping between two vector spaces.\n",
    "### Numerical approaches\n",
    "However, when dealing with sampled data (e.g. from real-world measurements), this analytical method does not work. Multiple approaches have been proposed, including the (2) forward, (3) central and (4) backward difference methods, such as, given three sampled points $x_0, x_1, x_2$ such that $x_0<x_1<x_2$:\n",
    "$$ f'(x_1) = \\frac{f(x_2) - f(x_1)}{x_2 - x_1}$$\n",
    "$$ f'(x_1) = \\frac{f(x_2) - f(x_0)}{x_2 - x_0}$$\n",
    "$$ f'(x_1) = \\frac{f(x_1) - f(x_0)}{x_1 - x_0}$$\n",
    "Only the central difference method can be used in order to compute the derivative of a point $\\hat{x}$ for which the function has not been sampled, by querying the closest left and right point to $\\hat{x}$.\n",
    "Such an approach often suffers when the data sampling is unequally spaced. To solve this problem, it is possible to proceed in three steps:\n",
    "- Interpolate a spline between each k-uplet of neighboring points\n",
    "- Compute the derivative of this spline\n",
    "- Query the value of this derivative for any point in the interval bounded by the $k$ points\n",
    "This approach may suffer by two means: either if the sampling resolution is not sufficient, or if the spline order does not correctly fits (overfits or underfits) the non-linearity of the data.\n",
    "### Data Generation\n",
    "We generate $2^{15}$ functions using the _symengine_ library, which allows the analytical definition of functions and the symbolic computation of their derivative. Then, for each function $f(x)$ we draw two sets $x$ and $x'$ of $64$ points at random uniform on an interval starting at a random position between $-1$ and $0$ of length $2$. We compute the values of $f(x)$ and $f'(x')$.\n",
    "\n",
    "The set of functions is constructed using the following method:\n",
    "1. Select, at random, one up to five _base_ functions $f$: $\\sin(x)$, $\\cos(x)$, $\\tanh(x)$, or $\\text{polynom}(x)$.\n",
    "2. For each of those functions:\n",
    "    1. If this base function is a polynom, chose a random degree $d$ being $2$ or $3$, then construct a function of the shape $\\sum_{i=0}^{d}a_i * x^i$, where $a_i$ are random coefficients between $-0.005$ and $0.005$.\n",
    "    2. Else, given $f$, construct a random variation as $f(ax + b) + c$, with a being drawn at random between $-5$ and $5$, $b$ and $c$ being drawn at random between $-0.5$ and $0.5$.\n",
    "3. Then assemble at random this set of functions $f_i$:\n",
    "    1. Fix $g = f_0$\n",
    "    1. For each function $f_i$, $i>0$ of this set:\n",
    "        1. At random, either $g = ag+bf$, or $g = agbf$, with $a$ and $b$ being drawn at random between $-0.5$ and $0.5$\n",
    "4. Evaluate $g(x)$ and $g'(y)$ at two random vectors $x$ and $y$, drawn at random on the interval $[a, a+2]$, where $a$ is a random value between $-1$ and $0$. If the evaluation yields values $<-10$ or $>10$, or if the amplitude of the values is smaller than $10^{-2}$, start again at (1). This ensures variable functions enough, avoiding too extreme values that would crush the functions when normalized by minmax.\n",
    "5. Add random normal noise to $f(x)$.\n",
    "### Problem definition\n",
    "Using the above procedure, construct a dataset of points defined as $X = (x, f(x))$ and $Y = (y, f'(y))$ for all pairs of functions/derivatives $f(x), f'(x)$.\n",
    "The problem is then defined as such: given a vector $x$, its image $f(x)$ and a vector $y$, compute $f'(y)$, assuming that the analytical form of $f$ is not known. \n",
    "### Error measurement\n",
    "The quality of the mapping $f'(y) \\approx O(x, f(x), y)$ is assessed by computing the mean absolute error between the vector $f'(y)$ and $O(x, f(x), y)$.\n",
    "### Proposed approaches\n",
    "In order to evaluate the quality of the ML approaches, we propose to use as basis the _central difference method_ and the _interpolated spline differentiation_ approach. Then, we propose three ML approaches:\n",
    "- Multi Layers Perceptron\n",
    "- Convolutional Neural Network\n",
    "- Neural Operator\n",
    "\n",
    "Their architectures are defined so that the have roughly the same number of parameters. They are trained using the same training procedure.\n",
    "## Code\n",
    "### Libraries import"
   ]
  },
  {
   "cell_type": "markdown",
   "id": "6318e65c-7deb-4871-8637-e7e26dec95e4",
   "metadata": {},
   "source": [
    "!pip install torch_harmonics symengine"
   ]
  },
  {
   "cell_type": "code",
   "execution_count": 3,
   "id": "37e51053-378c-4b5c-88ec-017c5943f737",
   "metadata": {},
   "outputs": [],
   "source": [
    "import numpy as np\n",
    "import torch\n",
    "import torch.nn as nn\n",
    "import neuralop\n",
    "from neuralop.models import FNO1d\n",
    "import matplotlib.pyplot as plt\n",
    "import seaborn as sns\n",
    "import symengine as se\n",
    "import pandas as pd\n",
    "from tqdm.auto import tqdm\n",
    "from copy import deepcopy\n",
    "from joblib import Parallel, delayed\n",
    "import scipy"
   ]
  },
  {
   "cell_type": "markdown",
   "id": "a6558fdb-8864-4d45-b1f1-485aeda969f0",
   "metadata": {},
   "source": [
    "### Functions Definition\n",
    "#### Error measurement"
   ]
  },
  {
   "cell_type": "code",
   "execution_count": 4,
   "id": "1da5a632-becd-4893-935f-f06ac01bfa63",
   "metadata": {},
   "outputs": [],
   "source": [
    "def error(x, y):\n",
    "    return np.mean(np.abs(x-y))"
   ]
  },
  {
   "cell_type": "markdown",
   "id": "938c597b-fe82-4bc2-9967-2fac63577491",
   "metadata": {},
   "source": [
    "### Numerical approaches"
   ]
  },
  {
   "cell_type": "code",
   "execution_count": 5,
   "id": "82576d36-8fac-4c8f-884b-35ce4bc1a488",
   "metadata": {},
   "outputs": [],
   "source": [
    "def diff_central(f_x, x, y):\n",
    "    x = np.asarray(x)\n",
    "    f_x = np.asarray(f_x)\n",
    "    y = np.asarray(y)\n",
    "    f_prime_y = np.zeros_like(y, dtype=float)\n",
    "    for j, y_j in enumerate(y):\n",
    "        for i, y_i in enumerate(y_j):\n",
    "            x_right_idx = min(np.searchsorted(x[j], y_i, side='left'), x[j].shape[0] - 1)\n",
    "            x_left_idx = x_right_idx - 1\n",
    "            x_0, x_1 = x[j, x_left_idx], x[j, x_right_idx]\n",
    "            f_0, f_1 = f_x[j, x_left_idx], f_x[j, x_right_idx]\n",
    "            \n",
    "            if x_1 != x_0:\n",
    "                f_prime_y[j, i] = (f_1 - f_0) / (x_1 - x_0)\n",
    "            else:\n",
    "                raise ValueError(f\"Duplicate x values found at indices {x_left_idx} and {x_right_idx}.\")\n",
    "        break\n",
    "    return f_prime_y\n",
    "\n",
    "def diff_interpolate(y, x, q):\n",
    "    if len(q.shape)==1:\n",
    "        return scipy.interpolate.UnivariateSpline(np.array(x), np.array(y), k=5).derivative()(np.array(q))[:-1]\n",
    "    else:\n",
    "        return np.array([scipy.interpolate.UnivariateSpline(np.array(x[i]), np.array(y[i]), k=5).derivative()(np.array(q[i]))[:-1] for i in range(q.shape[0])])"
   ]
  },
  {
   "cell_type": "markdown",
   "id": "573b0a57-aa28-42cd-b295-04c7b5635e62",
   "metadata": {},
   "source": [
    "### Random polynom generation"
   ]
  },
  {
   "cell_type": "code",
   "execution_count": 6,
   "id": "84ca6d30-7565-4102-a495-4a123e53a274",
   "metadata": {},
   "outputs": [],
   "source": [
    "def random_polynom(x):\n",
    "    degree = np.random.randint(2, 3)\n",
    "    expression = 0.01*(float(np.random.random() - 0.5)) * x**degree\n",
    "    degree -= 1\n",
    "    while degree >= 0:\n",
    "        expression += 0.01*(float(np.random.random() - 0.5)) * x**degree\n",
    "        degree -= 1\n",
    "    return expression"
   ]
  },
  {
   "cell_type": "markdown",
   "id": "bbbd113e-3782-426f-b78d-aa0b22fc753f",
   "metadata": {},
   "source": [
    "### Random assembling of the base functions"
   ]
  },
  {
   "cell_type": "code",
   "execution_count": 7,
   "id": "e7d47298-a877-48aa-a798-0b80a6e8cfc0",
   "metadata": {},
   "outputs": [],
   "source": [
    "def random_transform(f, x):\n",
    "    return f((10*float(np.random.random() - 0.5)) * x + (float(np.random.random() - 0.5))) + (float(np.random.random() - 0.5))\n",
    "\n",
    "def random_sum(l):\n",
    "    res = []\n",
    "    for f1 in l:\n",
    "        res.append((float(np.random.random() - 0.5)) * f1 + (float(np.random.random() - 0.5)) * np.random.choice(l))\n",
    "    return res\n",
    "\n",
    "def random_product(l):\n",
    "    res = []\n",
    "    for f1 in l:\n",
    "        res.append((float(np.random.random() - 0.5)) * f1 * (float(np.random.random() - 0.5)) * np.random.choice(l))\n",
    "    return res"
   ]
  },
  {
   "cell_type": "markdown",
   "id": "173d55d6-12ad-41c6-96fd-c932cf8a8d7f",
   "metadata": {},
   "source": [
    "### Dataset generation"
   ]
  },
  {
   "cell_type": "code",
   "execution_count": 8,
   "id": "3328178f-3065-432e-9ba0-f1f7339563f3",
   "metadata": {},
   "outputs": [],
   "source": [
    "def random_function(x, input_num_points, output_num_points, length, noise=1e-2):\n",
    "    maximum = 10\n",
    "    minimum = -10\n",
    "    while maximum >= 1 or minimum <= -1 or np.abs(np.max(f_eval)-np.min(f_eval)) <= 10e-2:\n",
    "        bases = np.random.choice([random_transform(se.sin, x),\n",
    "                                  random_transform(se.cos, x),\n",
    "                                  random_transform(se.tanh, x),\n",
    "                                  random_polynom(x)\n",
    "                                 ], size=np.random.randint(1, 5))\n",
    "        f = bases[0]\n",
    "        for i in range(1, len(bases)):\n",
    "            p = np.random.random()\n",
    "            if p < 0.5:\n",
    "                f = 0.1*random_sum([f, bases[i]])[0]\n",
    "            else:\n",
    "                f = 0.1*random_product([f, bases[i]])[0]\n",
    "        if np.random.random() < 0.5:\n",
    "            f = f * se.sin(25*float(np.random.random() - 0.5) * x)\n",
    "        if np.random.random() < 0.5:\n",
    "            f = f * se.cos(25*float(np.random.random() - 0.5) * x)\n",
    "        if np.random.random() < 0.5:\n",
    "            f = f * (se.tanh(x + float(np.random.random() - 0.5)) - 0.5) * float(np.random.random() - 0.5)\n",
    "        df = se.diff(f, x)\n",
    "        \n",
    "        start = np.random.random()-1\n",
    "        end = start + length\n",
    "        input_points = np.sort(np.random.uniform(start, end, size=input_num_points))\n",
    "        output_points = np.sort(np.random.uniform(start, end, size=output_num_points))\n",
    "        f_eval = np.array([float(f.subs({x: p})) for p in input_points])\n",
    "        \n",
    "        df_eval = np.array([float(df.subs({x: p})) for p in output_points])\n",
    "        maximum = np.max([np.max(f_eval), np.max(df_eval)])\n",
    "        minimum = np.min([np.min(f_eval), np.min(df_eval)])\n",
    "    return f, df, input_points, output_points, f_eval + np.random.normal(0, noise, size=input_num_points), df_eval\n",
    "\n",
    "def generate_sample(x, input_num_points, output_num_points, length, noise):\n",
    "    f, df, i_p, o_p, f_e, df_e = random_function(x, input_num_points, output_num_points, length, noise)\n",
    "    return f, df, i_p, o_p, f_e, df_e"
   ]
  },
  {
   "cell_type": "markdown",
   "id": "810b17c9-8b54-4787-9f54-b198e7b57ca7",
   "metadata": {},
   "source": [
    "An example of a generated function is given:"
   ]
  },
  {
   "cell_type": "code",
   "execution_count": 78,
   "id": "e02b3c47-0a86-426f-b7d4-cc778a45d5b1",
   "metadata": {},
   "outputs": [],
   "source": [
    "f, df, i_p, o_p, f_e, df_e = random_function(se.Symbol('x'), 128, 128, 2, 0.01)"
   ]
  },
  {
   "cell_type": "code",
   "execution_count": 79,
   "id": "a7d4936b-263b-4130-99f6-549196338223",
   "metadata": {},
   "outputs": [
    {
     "data": {
      "text/plain": [
       "-0.170681103268526*sin(7.64819433083004*x)*(-0.5 + tanh(0.104477201352995 + x))*(0.199430177858185 + cos(0.399540533804634 - 4.26053616248778*x))"
      ]
     },
     "execution_count": 79,
     "metadata": {},
     "output_type": "execute_result"
    }
   ],
   "source": [
    "f"
   ]
  },
  {
   "cell_type": "code",
   "execution_count": 80,
   "id": "d4bd185a-abaf-4a03-8878-0982ae644fcd",
   "metadata": {},
   "outputs": [
    {
     "data": {
      "image/png": "[encoded data removed]",
      "text/plain": [
       "<Figure size 1500x800 with 1 Axes>"
      ]
     },
     "metadata": {},
     "output_type": "display_data"
    }
   ],
   "source": [
    "plt.figure(figsize=(15, 8))\n",
    "plt.plot(i_p, f_e, label=\"f(x)\")\n",
    "plt.plot(o_p, df_e, label=\"f'(x)\")\n",
    "plt.grid()\n",
    "plt.legend()\n",
    "plt.title(\"Example of generated function and its derivative\")\n",
    "plt.show()"
   ]
  },
  {
   "cell_type": "markdown",
   "id": "95718a22-8f64-4a62-be75-e6d216cee1d4",
   "metadata": {},
   "source": [
    "We define the total size of the dataset, and the resolution of the functions sampling. We noise the functions evaluations."
   ]
  },
  {
   "cell_type": "code",
   "execution_count": 81,
   "id": "41a270d2-e3bd-4108-9fe3-75e01e2a1013",
   "metadata": {},
   "outputs": [],
   "source": [
    "total_size = int(2**15)\n",
    "length = 2\n",
    "input_num_points = 64\n",
    "output_num_points = 64\n",
    "noise = 0.01"
   ]
  },
  {
   "cell_type": "code",
   "execution_count": null,
   "id": "4b77dac3-7457-464f-ac99-cbe7e60ba23e",
   "metadata": {},
   "outputs": [
    {
     "name": "stdout",
     "output_type": "stream",
     "text": [
      "Generating 32768 samples\n"
     ]
    },
    {
     "data": {
      "application/vnd.jupyter.widget-view+json": {
       "model_id": "ce39299052fb49c6805b28ddcd24b5f2",
       "version_major": 2,
       "version_minor": 0
      },
      "text/plain": [
       "  0%|          | 0/32768 [00:00<?, ?it/s]"
      ]
     },
     "metadata": {},
     "output_type": "display_data"
    }
   ],
   "source": [
    "GENERATING = True# False\n",
    "\n",
    "if GENERATING:\n",
    "    print(\"Generating\", total_size, \"samples\")\n",
    "    x = se.Symbol('x')\n",
    "\n",
    "    results = Parallel(n_jobs=-1)(delayed(generate_sample)(x, input_num_points, output_num_points, length, noise) for _ in tqdm(range(total_size)))\n",
    "\n",
    "    functions, derivatives, input_points, output_points, functions_eval, derivatives_eval = zip(*results)\n",
    "\n",
    "    X = np.array(list(zip(functions_eval, input_points)))\n",
    "    Y = np.array(list(zip(derivatives_eval, output_points)))\n",
    "    np.save(\"X.npy\", X)\n",
    "    np.save(\"Y.npy\", Y)\n",
    "else:\n",
    "    X, Y = np.load(\"X.npy\"), np.load(\"Y.npy\")\n",
    "    total_size, _, num_points = X.shape"
   ]
  },
  {
   "cell_type": "code",
   "execution_count": null,
   "id": "3b423d6b-e477-40a9-ae4e-a85e5c4db408",
   "metadata": {},
   "outputs": [],
   "source": [
    "device = 'cuda' if torch.cuda.is_available() else 'mps'"
   ]
  },
  {
   "cell_type": "markdown",
   "id": "78d1cb5c-f2ad-4019-932d-a7147d00e801",
   "metadata": {},
   "source": [
    "We split the dataset in three parts: half of it is the training set, and the two remaining quarters are for validation and testing."
   ]
  },
  {
   "cell_type": "code",
   "execution_count": null,
   "id": "c97f541f-dab3-43aa-ab0f-21e90a5770ac",
   "metadata": {},
   "outputs": [],
   "source": [
    "train_size = int(X.shape[0]*0.5)\n",
    "val_size = int(X.shape[0]*0.25)\n",
    "test_size = X.shape[0] - train_size - val_size\n",
    "\n",
    "x_train, y_train = torch.tensor(X[:train_size], dtype=torch.float32).to(device), torch.tensor(Y[:train_size], dtype=torch.float32).to(device)\n",
    "x_val, y_val = torch.tensor(X[train_size:train_size+val_size], dtype=torch.float32).to(device), torch.tensor(Y[train_size:train_size+val_size], dtype=torch.float32).to(device)\n",
    "x_test, y_test = torch.tensor(X[train_size+val_size:], dtype=torch.float32).to(device), torch.tensor(Y[train_size+val_size:], dtype=torch.float32).to(device)"
   ]
  },
  {
   "cell_type": "markdown",
   "id": "b99b6975-da14-4f37-8a29-cf3acdac6c5d",
   "metadata": {},
   "source": [
    "We normalize the datasets using the minimum and maximum of the training set."
   ]
  },
  {
   "cell_type": "code",
   "execution_count": null,
   "id": "860192f8-84af-4bd3-ac89-2daadfd0642b",
   "metadata": {},
   "outputs": [],
   "source": [
    "maxi_0 = x_train[:, 0].max()\n",
    "mini_0 = x_train[:, 0].min()\n",
    "maxi_1 = x_train[:, 1].max()\n",
    "mini_1 = x_train[:, 1].min()\n",
    "\n",
    "x_train[:, 0] = (x_train[:, 0]-mini_0)/(maxi_0-mini_0)\n",
    "x_train[:, 1] = (x_train[:, 1]-mini_1)/(maxi_1-mini_1)\n",
    "\n",
    "x_val[:, 0] = (x_val[:, 0]-mini_0)/(maxi_0-mini_0)\n",
    "x_val[:, 1] = (x_val[:, 1]-mini_1)/(maxi_1-mini_1)\n",
    "\n",
    "x_test[:, 0] = (x_test[:, 0]-mini_0)/(maxi_0-mini_0)\n",
    "x_test[:, 1] = (x_test[:, 1]-mini_1)/(maxi_1-mini_1)\n",
    "\n",
    "maxi_0_y = y_train[:, 0].max()\n",
    "mini_0_y = y_train[:, 0].min()\n",
    "maxi_1_y = y_train[:, 1].max()\n",
    "mini_1_y = y_train[:, 1].min()\n",
    "\n",
    "y_train[:, 0] = (y_train[:, 0]-mini_0_y)/(maxi_0_y-mini_0_y)\n",
    "y_train[:, 1] = (y_train[:, 1]-mini_1_y)/(maxi_1_y-mini_1_y)\n",
    "\n",
    "y_val[:, 0] = (y_val[:, 0]-mini_0_y)/(maxi_0_y-mini_0_y)\n",
    "y_val[:, 1] = (y_val[:, 1]-mini_1_y)/(maxi_1_y-mini_1_y)\n",
    "\n",
    "y_test[:, 0] = (y_test[:, 0]-mini_0_y)/(maxi_0_y-mini_0_y)\n",
    "y_test[:, 1] = (y_test[:, 1]-mini_1_y)/(maxi_1_y-mini_1_y)"
   ]
  },
  {
   "cell_type": "markdown",
   "id": "2f831d90-f46b-4b88-a266-22a429053566",
   "metadata": {},
   "source": [
    "We define the three ML architectures."
   ]
  },
  {
   "cell_type": "code",
   "execution_count": null,
   "id": "8be3afc7-0af6-4a44-ba61-21aa1cb175da",
   "metadata": {},
   "outputs": [],
   "source": [
    "class NeuralNetwork(nn.Module):\n",
    "    def __init__(self, input_shape, output_shape):\n",
    "        super(NeuralNetwork, self).__init__()\n",
    "        self.l1 = nn.Linear(input_shape, 512)\n",
    "        self.l2 = nn.Linear(512, 256)\n",
    "        self.l3 = nn.Linear(256, 128)\n",
    "        self.l4 = nn.Linear(128, output_shape)\n",
    "        \n",
    "        self.relu = nn.ReLU()\n",
    "\n",
    "    def forward(self, inputs, query):\n",
    "        x = self.relu(self.l1(torch.concat([inputs.reshape((inputs.shape[0], -1)), query.reshape((query.shape[0], -1))], axis=1)))\n",
    "        x = self.relu(self.l2(x))\n",
    "        x = self.relu(self.l3(x))\n",
    "        x = self.l4(x)\n",
    "        return x\n",
    "\n",
    "class CNN(nn.Module):\n",
    "    def __init__(self, input_shape, output_shape):\n",
    "        super(CNN, self).__init__()\n",
    "        self.conv1 = nn.Conv1d(1, 16, kernel_size=3, stride=1, padding=1)\n",
    "        self.conv2 = nn.Conv1d(16, 32, kernel_size=3, stride=1, padding=1)\n",
    "        self.conv3 = nn.Conv1d(32, 64, kernel_size=3, stride=1, padding=1)\n",
    "        self.pool = nn.MaxPool1d(kernel_size=2, stride=2)\n",
    "        self.fc1 = nn.Linear(32 * input_shape//4, 512)\n",
    "        self.fc2 = nn.Linear(512, 256)\n",
    "        self.fc3 = nn.Linear(256, output_shape)\n",
    "        \n",
    "        self.relu = nn.ReLU()\n",
    "\n",
    "    def forward(self, inputs, query):\n",
    "        x = self.relu(self.conv1(torch.concat([inputs.reshape((inputs.shape[0], 1, -1)), query.reshape((query.shape[0], 1, -1))], axis=2)))\n",
    "        x = self.pool(x)\n",
    "        x = self.relu(self.conv2(x))\n",
    "        x = self.pool(x)\n",
    "        x = self.relu(self.conv3(x))\n",
    "        x = self.pool(x)\n",
    "        x = x.view(x.size(0), -1)\n",
    "        x = self.relu(self.fc1(x))\n",
    "        x = self.relu(self.fc2(x))\n",
    "        x = self.fc3(x)\n",
    "        return x\n",
    "\n",
    "class NeuralOperator(nn.Module):\n",
    "    def __init__(self, n_modes_height=64, n_layers=1, hidden_channels=16):\n",
    "        super(NeuralOperator, self).__init__()\n",
    "        self.fc = neuralop.models.FNO1d(n_modes_height=n_modes_height, n_layers=n_layers, in_channels=3, out_channels=1, hidden_channels=hidden_channels)\n",
    "\n",
    "    def forward(self, inputs, query):\n",
    "        inputs = inputs.view(inputs.size(0), -1, query.size(-1))\n",
    "        return self.fc(torch.concat([inputs, query.unsqueeze(1)], 1)).squeeze(1)"
   ]
  },
  {
   "cell_type": "code",
   "execution_count": null,
   "id": "845f55a1-9da3-4311-8aea-225c97fbf3da",
   "metadata": {},
   "outputs": [],
   "source": [
    "torch.manual_seed(42)\n",
    "neural_network = NeuralNetwork(input_num_points*2+output_num_points, output_num_points).to(device)\n",
    "print(\"Neural Network:\", np.sum([len(i) for i in neural_network.parameters()]), \"parameters\")"
   ]
  },
  {
   "cell_type": "code",
   "execution_count": null,
   "id": "a6b2b8ba-030f-4eb3-98ac-821117b64289",
   "metadata": {},
   "outputs": [],
   "source": [
    "torch.manual_seed(42)\n",
    "cnn = CNN(input_num_points*2+output_num_points, output_num_points).to(device)\n",
    "print(\"Convolutional Neural Network:\", np.sum([len(i) for i in cnn.parameters()]), \"parameters\")"
   ]
  },
  {
   "cell_type": "code",
   "execution_count": null,
   "id": "822da17d-b352-40d7-b604-dadd2ef1c725",
   "metadata": {},
   "outputs": [],
   "source": [
    "torch.manual_seed(42)\n",
    "neural_operator = NeuralOperator(128, 4, 64).to(device)\n",
    "print(\"Neural Operator:\", np.sum([len(i) for i in neural_operator.parameters()]), \"parameters\")"
   ]
  },
  {
   "cell_type": "markdown",
   "id": "f78eb08d-57a0-4bf0-beb6-c1727ffdad8f",
   "metadata": {},
   "source": [
    "We define the training procedure."
   ]
  },
  {
   "cell_type": "code",
   "execution_count": null,
   "id": "e8b2ecb2-88e4-45b7-8245-7fe643155a86",
   "metadata": {},
   "outputs": [],
   "source": [
    "def train(model, n_epochs, batch_size):\n",
    "    best_model = deepcopy(model)\n",
    "    criterion = nn.MSELoss()\n",
    "    optimizer = torch.optim.AdamW(model.parameters(), lr=1e-3)\n",
    "    scheduler = torch.optim.lr_scheduler.ReduceLROnPlateau(optimizer, mode='min', factor=0.5, patience=2)\n",
    "    val_losses = []\n",
    "    best_loss = np.inf\n",
    "    for epoch in (pbar := tqdm(range(n_epochs))):\n",
    "        model.train()\n",
    "        for b in range(0, x_train.shape[0], batch_size):\n",
    "            optimizer.zero_grad()\n",
    "            predictions = model(x_train[b:b+batch_size], y_train[b:b+batch_size, 1])\n",
    "            loss = criterion(predictions, y_train[b:b+batch_size, 0])\n",
    "            loss.backward()\n",
    "            optimizer.step()\n",
    "        model.eval()\n",
    "        with torch.no_grad():\n",
    "            val_loss = criterion(model(x_val, y_val[:, 1]), y_val[:, 0]).item()\n",
    "        val_losses.append(val_loss)\n",
    "        scheduler.step(val_loss)\n",
    "        pbar.set_description(f\"Loss: {val_loss:.9f}\")\n",
    "        if val_loss < best_loss:\n",
    "            best_loss = val_loss\n",
    "            best_model = deepcopy(model)\n",
    "    return best_model, val_losses"
   ]
  },
  {
   "cell_type": "code",
   "execution_count": null,
   "id": "d2b2a5d3-6e4d-459e-b3b0-3f03abf9fe7e",
   "metadata": {},
   "outputs": [],
   "source": [
    "epochs = 128\n",
    "batch_size = 128"
   ]
  },
  {
   "cell_type": "code",
   "execution_count": null,
   "id": "ccac1bcd-d345-47f2-a429-98898ed0bf9e",
   "metadata": {},
   "outputs": [],
   "source": [
    "TRAINING = True#False"
   ]
  },
  {
   "cell_type": "code",
   "execution_count": null,
   "id": "1147cba6-e06a-4aec-9ed6-82d0e508fdb7",
   "metadata": {},
   "outputs": [],
   "source": [
    "if TRAINING:\n",
    "    best_neural_operator, losses_neural_operator = train(neural_operator, epochs, batch_size)\n",
    "    torch.save(best_neural_operator, \"best_neural_operator.pt\")\n",
    "    np.save(\"losses_neural_operator.npy\", losses_neural_operator)\n",
    "else:\n",
    "    best_neural_operator, losses_neural_operator = torch.load(\"best_neural_operator.pt\", weights_only=False, map_location=device), np.load(\"losses_neural_operator.npy\")"
   ]
  },
  {
   "cell_type": "code",
   "execution_count": null,
   "id": "651600c1-3ee8-48ef-b13f-8481244aa6b9",
   "metadata": {},
   "outputs": [],
   "source": [
    "if TRAINING:\n",
    "    best_neural_network, losses_neural_network = train(neural_network, epochs, batch_size)\n",
    "    torch.save(best_neural_network, \"best_neural_network.pt\")\n",
    "    np.save(\"losses_neural_network.npy\", losses_neural_network)\n",
    "else:\n",
    "    best_neural_network, losses_neural_network = torch.load(\"best_neural_network.pt\", weights_only=False, map_location=device), np.load(\"losses_neural_network.npy\")"
   ]
  },
  {
   "cell_type": "code",
   "execution_count": null,
   "id": "fb00482b-e855-4a93-a71d-65ccbac0769b",
   "metadata": {},
   "outputs": [],
   "source": [
    "if TRAINING:\n",
    "    best_cnn, losses_cnn = train(cnn, epochs, batch_size)\n",
    "    torch.save(best_cnn, \"best_cnn.pt\")\n",
    "    np.save(\"losses_cnn.npy\", losses_cnn)\n",
    "else:\n",
    "    best_cnn, losses_cnn = torch.load(\"best_cnn.pt\", weights_only=False, map_location=device), np.load(\"losses_cnn.npy\")"
   ]
  },
  {
   "cell_type": "markdown",
   "id": "442d269f-2d93-43b3-be0a-45a4175e9abc",
   "metadata": {},
   "source": [
    "We evaluate the three ML architectures and the two numerical approaches."
   ]
  },
  {
   "cell_type": "code",
   "execution_count": null,
   "id": "b6284315-2dec-4c82-b511-05eda0694187",
   "metadata": {},
   "outputs": [],
   "source": [
    "with torch.no_grad():\n",
    "    y_hat_nn = best_neural_network(x_test, y_test[:, 1]).to('cpu').squeeze().detach().numpy()\n",
    "    y_hat_cnn = best_cnn(x_test, y_test[:, 1]).to('cpu').squeeze().detach().numpy()\n",
    "    y_hat_no = best_neural_operator(x_test, y_test[:, 1]).to('cpu').squeeze().detach().numpy()"
   ]
  },
  {
   "cell_type": "code",
   "execution_count": null,
   "id": "be95523d-f092-46f3-b582-2b6d5cc341ef",
   "metadata": {},
   "outputs": [],
   "source": [
    "y_hat_cd = diff_central(((x_test[:, 0]*(maxi_0-mini_0))+mini_0).to('cpu'), ((x_test[:, 1]*(maxi_1-mini_1))+mini_1).to('cpu'), y_test[:, 1].to('cpu'))\n",
    "y_hat_cd = (y_hat_cd-mini_0_y.item())/(maxi_0_y.item()-mini_0_y.item())\n",
    "\n",
    "y_hat_si = diff_interpolate(((x_test[:, 0]*(maxi_0-mini_0))+mini_0).to('cpu'), ((x_test[:, 1]*(maxi_1-mini_1))+mini_1).to('cpu'), y_test[:, 1].to('cpu'))\n",
    "y_hat_si = (y_hat_si-mini_0_y.item())/(maxi_0_y.item()-mini_0_y.item())"
   ]
  },
  {
   "cell_type": "markdown",
   "id": "df70e6ce-4e68-423e-84a0-7e34d7642112",
   "metadata": {},
   "source": [
    "We show the predictions for $10$ samples of the testing set, w.r.t. the expected function."
   ]
  },
  {
   "cell_type": "code",
   "execution_count": null,
   "id": "05fc1371-361e-4550-8628-ffc70effa492",
   "metadata": {},
   "outputs": [],
   "source": [
    "r = 0\n",
    "errors = {\"NN\": [], \"CNN\": [], \"NO\": [], \"CD\": [], \"SI\": []}\n",
    "n_samples = 10\n",
    "for j in range(n_samples):\n",
    "    i = r + j\n",
    "    fig, ax = plt.subplots(1, 6, figsize=(25, 4))\n",
    "    for a in range(5):\n",
    "        ax[a+1].plot(y_test[i, 1].to(\"cpu\"), y_test[i, 0].to(\"cpu\"), linestyle=\"--\", label=\"f'(x)\")\n",
    "    ax[0].plot(x_test[i, 1].to(\"cpu\"), x_test[i, 0].to(\"cpu\"), label='f(x)')\n",
    "    ax[1].plot(y_test[i, 1].to(\"cpu\"), y_hat_nn[i], label='nn')\n",
    "    ax[2].plot(y_test[i, 1].to(\"cpu\"), y_hat_cnn[i], label='cnn')\n",
    "    ax[3].plot(y_test[i, 1].to(\"cpu\"), y_hat_no[i], label='no')\n",
    "    ax[4].plot(y_test[i, 1].to(\"cpu\"), y_hat_cd[i], label='cd')\n",
    "    ax[5].plot(y_test[i, 1, :-1].to(\"cpu\"), y_hat_si[i], label='si')\n",
    "    ax[0].set_title('Input function')\n",
    "    errors[\"NN\"].append(error(y_test[i, 0].to(\"cpu\").numpy(), y_hat_nn[i]))\n",
    "    errors[\"CNN\"].append(error(y_test[i, 0].to(\"cpu\").numpy(), y_hat_cnn[i]))\n",
    "    errors[\"NO\"].append(error(y_test[i, 0].to(\"cpu\").numpy(), y_hat_no[i]))\n",
    "    errors[\"CD\"].append(error(y_test[i, 0].to(\"cpu\").numpy(), y_hat_cd[i]))\n",
    "    errors[\"SI\"].append(error(y_test[i, 0, :-1].to(\"cpu\").numpy(), y_hat_si[i]))\n",
    "    ax[1].set_title(f'Neural Network\\nMSE: {errors[\"NN\"][-1]:.7f}')\n",
    "    ax[2].set_title(f'Convolutional Neural Network\\nMSE: {errors[\"CNN\"][-1]:.7f}')\n",
    "    ax[3].set_title(f'Neural Operator\\nMSE: {errors[\"NO\"][-1]:.7f}')\n",
    "    ax[4].set_title(f'Central Differences\\nMSE: {errors[\"CD\"][-1]:.7f}')\n",
    "    ax[5].set_title(f'Spline Interpolation\\nMSE: {errors[\"SI\"][-1]:.7f}')\n",
    "    for a in range(1, 4):\n",
    "        ax[a].set_ylim(-0.5, 1.5)\n",
    "    for a in range(6):\n",
    "        ax[a].legend()\n",
    "        ax[a].grid('on')\n",
    "    plt.show()"
   ]
  },
  {
   "cell_type": "markdown",
   "id": "e1d515c1-19f3-496a-8e87-1010ef046106",
   "metadata": {},
   "source": [
    "We compute the average prediction error for each procedure."
   ]
  },
  {
   "cell_type": "code",
   "execution_count": null,
   "id": "a30b30ce-5a9c-47af-b508-2d854abeb05a",
   "metadata": {},
   "outputs": [],
   "source": [
    "r = 0\n",
    "errors = {\"NN\": [], \"CNN\": [], \"NO\": [], \"CD\": [], \"SI\": []}\n",
    "n_samples = x_test.shape[0]\n",
    "for j in range(n_samples):\n",
    "    i = r + j\n",
    "    errors[\"NN\"].append(error(y_test[i, 0].to(\"cpu\").numpy(), y_hat_nn[i]))\n",
    "    errors[\"CNN\"].append(error(y_test[i, 0].to(\"cpu\").numpy(), y_hat_cnn[i]))\n",
    "    errors[\"NO\"].append(error(y_test[i, 0].to(\"cpu\").numpy(), y_hat_no[i]))\n",
    "    errors[\"CD\"].append(error(y_test[i, 0].to(\"cpu\").numpy(), y_hat_cd[i]))\n",
    "    errors[\"SI\"].append(error(y_test[i, 0, :-1].to(\"cpu\").numpy(), y_hat_si[i]))\n",
    "averages = {i: [np.mean(errors[i])] for i in errors}"
   ]
  },
  {
   "cell_type": "code",
   "execution_count": null,
   "id": "f930a162-197e-40dd-a189-204b1299175d",
   "metadata": {},
   "outputs": [],
   "source": [
    "for i in sorted(averages, key=lambda x: averages[x]):\n",
    "    print(f\"{i}:\\t{averages[i][0]:.7f}\")"
   ]
  },
  {
   "cell_type": "code",
   "execution_count": null,
   "id": "846b1012-c74c-4e95-8f3a-bad5ce18260a",
   "metadata": {},
   "outputs": [],
   "source": [
    "errors = pd.DataFrame(errors)\n",
    "averages = pd.DataFrame(averages)"
   ]
  },
  {
   "cell_type": "code",
   "execution_count": null,
   "id": "8ea9d80a-2085-4cc6-8fec-819dc088c395",
   "metadata": {},
   "outputs": [],
   "source": [
    "fig, ax = plt.subplots(figsize=(17, 10))\n",
    "sns.stripplot(data=errors, ax=ax, marker='.')\n",
    "sns.stripplot(data=averages, ax=ax, color='black', marker='o')\n",
    "for i in averages:\n",
    "    ax.plot([0, 4], [averages[i], averages[i]])\n",
    "plt.legend([\"Multi-layer Perceptron\", \"Convolutional Neural Network\", \"Neural Operator\", \"Central Differences\", \"Interpolation differentiation\"])\n",
    "plt.title(\"Errors\")\n",
    "plt.grid('on')\n",
    "plt.yscale('log')\n",
    "plt.show()"
   ]
  },
  {
   "cell_type": "markdown",
   "id": "9f866dc1-c4ad-477c-b6ac-a19a1c2e2df9",
   "metadata": {},
   "source": [
    "## Conclusion\n",
    "We see that the use of ML can definitely improve the differentiation procedure for noised unequally sampled functions. Furthermore, the formalism proposed by the Neural Operators seems to allow the a better learning with the same number of parameters that the two other used ML methods. Further research could evaluate the performances of this formalism using differentiations of greater orders. The question of which part of the Neural Operator allows the improvements remains open. "
   ]
  },
  {
   "cell_type": "code",
   "execution_count": null,
   "id": "56b46c8b-2efa-4ce8-ba46-3db0c2adee10",
   "metadata": {},
   "outputs": [],
   "source": []
  }
 ],
 "metadata": {
  "kernelspec": {
   "display_name": "Python 3 (ipykernel)",
   "language": "python",
   "name": "python3"
  },
  "language_info": {
   "codemirror_mode": {
    "name": "ipython",
    "version": 3
   },
   "file_extension": ".py",
   "mimetype": "text/x-python",
   "name": "python",
   "nbconvert_exporter": "python",
   "pygments_lexer": "ipython3",
   "version": "3.10.0"
  }
 },
 "nbformat": 4,
 "nbformat_minor": 5
}
